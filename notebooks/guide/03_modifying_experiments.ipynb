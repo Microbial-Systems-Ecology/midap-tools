{
 "cells": [
  {
   "cell_type": "markdown",
   "metadata": {},
   "source": [
    "# Chapter 3: Modify experiments\n",
    "\n",
    "In this chapter, we will learn how we can modify the samples and color channels that are in a FluidClass experiment\n",
    "\n",
    "we start by loading the example experiment"
   ]
  },
  {
   "cell_type": "code",
   "execution_count": 18,
   "metadata": {},
   "outputs": [
    {
     "name": "stdout",
     "output_type": "stream",
     "text": [
      "Loading sample at position pos1 for color channel YFP\n",
      "Loading sample at position pos1 for color channel CFP\n",
      "Loading sample at position pos2 for color channel YFP\n",
      "Loading sample at position pos2 for color channel CFP\n",
      "Loading sample at position pos3 for color channel YFP\n",
      "Loading sample at position pos3 for color channel CFP\n",
      "Loading sample at position pos4 for color channel YFP\n",
      "Loading sample at position pos4 for color channel CFP\n",
      "Loading sample at position pos5 for color channel YFP\n",
      "Loading sample at position pos5 for color channel CFP\n",
      "Loading sample at position pos6 for color channel YFP\n",
      "Loading sample at position pos6 for color channel CFP\n",
      "Successfully loaded data with consistent number of frames: 143\n",
      "FluidExperiment with name: experiment\n",
      "Path: ../../data/midap-tools_example\n",
      "6 positions: pos1, pos2, pos3, pos4, pos5, pos6\n",
      "2 color channels: YFP, CFP\n",
      "length of experiment is consistent: 143\n",
      "experiment has consistent headers: Unnamed: 0, globalID, frame, labelID, trackID, lineageID, trackID_d1, trackID_d2, split, trackID_mother, first_frame, last_frame, area, edges_min_row, edges_min_col, edges_max_row, edges_max_col, intensity_max, intensity_mean, intensity_min, minor_axis_length, major_axis_length, x, y\n",
      "\n"
     ]
    }
   ],
   "source": [
    "from fluid_experiment.fluid_experiment import FluidExperiment\n",
    "\n",
    "PATH = \"../../data/midap-tools_example\"\n",
    "experiment_original = FluidExperiment(PATH)\n",
    "print(experiment_original)"
   ]
  },
  {
   "cell_type": "markdown",
   "metadata": {},
   "source": [
    "## Copy an experiment\n",
    "\n",
    "we can copy an experiment with the following command:"
   ]
  },
  {
   "cell_type": "code",
   "execution_count": 19,
   "metadata": {},
   "outputs": [
    {
     "name": "stdout",
     "output_type": "stream",
     "text": [
      "FluidExperiment with name: experiment\n",
      "Path: ../../data/midap-tools_example\n",
      "6 positions: pos1, pos2, pos3, pos4, pos5, pos6\n",
      "2 color channels: YFP, CFP\n",
      "length of experiment is consistent: 143\n",
      "experiment has consistent headers: Unnamed: 0, globalID, frame, labelID, trackID, lineageID, trackID_d1, trackID_d2, split, trackID_mother, first_frame, last_frame, area, edges_min_row, edges_min_col, edges_max_row, edges_max_col, intensity_max, intensity_mean, intensity_min, minor_axis_length, major_axis_length, x, y\n",
      "\n"
     ]
    }
   ],
   "source": [
    "experiment_copy = FluidExperiment.from_copy(experiment_original)\n",
    "print(experiment_copy)"
   ]
  },
  {
   "cell_type": "markdown",
   "metadata": {},
   "source": [
    "***\n",
    "\n",
    "As we can see, we created a exact copy of the original experiment. This can be helpfull if we want to first do a consistent pre-processing and then a number of different post processing steps for multiple copies\n",
    "\n",
    "## Drop data\n",
    "\n",
    "We may want to remove a number of positions or color_channels\n",
    "\n",
    "To remove positions we do:"
   ]
  },
  {
   "cell_type": "code",
   "execution_count": 20,
   "metadata": {},
   "outputs": [
    {
     "name": "stdout",
     "output_type": "stream",
     "text": [
      "Dropping position pos1 from experiment\n",
      "Dropping position pos2 from experiment\n",
      "FluidExperiment with name: experiment\n",
      "Path: ../../data/midap-tools_example\n",
      "4 positions: pos3, pos4, pos5, pos6\n",
      "2 color channels: YFP, CFP\n",
      "length of experiment is consistent: 143\n",
      "experiment has consistent headers: Unnamed: 0, globalID, frame, labelID, trackID, lineageID, trackID_d1, trackID_d2, split, trackID_mother, first_frame, last_frame, area, edges_min_row, edges_min_col, edges_max_row, edges_max_col, intensity_max, intensity_mean, intensity_min, minor_axis_length, major_axis_length, x, y\n",
      "\n"
     ]
    }
   ],
   "source": [
    "experiment_copy.drop_positions(positions = [\"pos1\",\"pos2\"])\n",
    "print(experiment_copy)"
   ]
  },
  {
   "cell_type": "markdown",
   "metadata": {},
   "source": [
    "***\n",
    "\n",
    "And to remove a color channel we can do:"
   ]
  },
  {
   "cell_type": "code",
   "execution_count": 21,
   "metadata": {},
   "outputs": [
    {
     "name": "stdout",
     "output_type": "stream",
     "text": [
      "Dropping color_channel CFP from position pos3 in experiment\n",
      "Dropping color_channel CFP from position pos4 in experiment\n",
      "Dropping color_channel CFP from position pos5 in experiment\n",
      "Dropping color_channel CFP from position pos6 in experiment\n",
      "FluidExperiment with name: experiment\n",
      "Path: ../../data/midap-tools_example\n",
      "4 positions: pos3, pos4, pos5, pos6\n",
      "1 color channels: YFP\n",
      "length of experiment is consistent: 143\n",
      "experiment has consistent headers: Unnamed: 0, globalID, frame, labelID, trackID, lineageID, trackID_d1, trackID_d2, split, trackID_mother, first_frame, last_frame, area, edges_min_row, edges_min_col, edges_max_row, edges_max_col, intensity_max, intensity_mean, intensity_min, minor_axis_length, major_axis_length, x, y\n",
      "\n"
     ]
    }
   ],
   "source": [
    "experiment_copy.drop_color_channels(color_channels= \"CFP\")\n",
    "print(experiment_copy)"
   ]
  },
  {
   "cell_type": "markdown",
   "metadata": {},
   "source": [
    "## Rename data\n",
    "\n",
    "we can also rename positions and/or color_channels."
   ]
  },
  {
   "cell_type": "code",
   "execution_count": 22,
   "metadata": {},
   "outputs": [
    {
     "name": "stdout",
     "output_type": "stream",
     "text": [
      "FluidExperiment with name: experiment\n",
      "Path: ../../data/midap-tools_example\n",
      "4 positions: posA, pos4, pos5, pos6\n",
      "1 color channels: YFP\n",
      "length of experiment is consistent: 143\n",
      "experiment has consistent headers: Unnamed: 0, globalID, frame, labelID, trackID, lineageID, trackID_d1, trackID_d2, split, trackID_mother, first_frame, last_frame, area, edges_min_row, edges_min_col, edges_max_row, edges_max_col, intensity_max, intensity_mean, intensity_min, minor_axis_length, major_axis_length, x, y\n",
      "\n"
     ]
    }
   ],
   "source": [
    "experiment_copy.rename_position(\"pos3\",\"posA\")\n",
    "print(experiment_copy)"
   ]
  },
  {
   "cell_type": "markdown",
   "metadata": {},
   "source": [
    "***\n",
    "\n",
    "similarly, we can rename a color_channel"
   ]
  },
  {
   "cell_type": "code",
   "execution_count": 23,
   "metadata": {},
   "outputs": [
    {
     "name": "stdout",
     "output_type": "stream",
     "text": [
      "FluidExperiment with name: experiment\n",
      "Path: ../../data/midap-tools_example\n",
      "4 positions: posA, pos4, pos5, pos6\n",
      "1 color channels: mcherry\n",
      "length of experiment is consistent: 143\n",
      "experiment has consistent headers: Unnamed: 0, globalID, frame, labelID, trackID, lineageID, trackID_d1, trackID_d2, split, trackID_mother, first_frame, last_frame, area, edges_min_row, edges_min_col, edges_max_row, edges_max_col, intensity_max, intensity_mean, intensity_min, minor_axis_length, major_axis_length, x, y\n",
      "\n"
     ]
    }
   ],
   "source": [
    "experiment_copy.rename_color_channel(\"YFP\",\"mcherry\")\n",
    "print(experiment_copy)"
   ]
  },
  {
   "cell_type": "markdown",
   "metadata": {},
   "source": [
    "## Fuse data\n",
    "\n",
    "we can fuse data from multiple experiments\n",
    "\n",
    "\n",
    "lets start by loading 3 experiments with only 2 positions each"
   ]
  },
  {
   "cell_type": "code",
   "execution_count": 24,
   "metadata": {},
   "outputs": [
    {
     "name": "stdout",
     "output_type": "stream",
     "text": [
      "Loading sample at position pos1 for color channel YFP\n",
      "Loading sample at position pos1 for color channel CFP\n",
      "Loading sample at position pos2 for color channel YFP\n",
      "Loading sample at position pos2 for color channel CFP\n",
      "Successfully loaded data with consistent number of frames: 143\n",
      "Loading sample at position pos3 for color channel YFP\n",
      "Loading sample at position pos3 for color channel CFP\n",
      "Loading sample at position pos4 for color channel YFP\n",
      "Loading sample at position pos4 for color channel CFP\n",
      "Successfully loaded data with consistent number of frames: 143\n",
      "Loading sample at position pos5 for color channel YFP\n",
      "Loading sample at position pos5 for color channel CFP\n",
      "Loading sample at position pos6 for color channel YFP\n",
      "Loading sample at position pos6 for color channel CFP\n",
      "Successfully loaded data with consistent number of frames: 143\n",
      "FluidExperiment with name: experiment\n",
      "Path: ../../data/midap-tools_example\n",
      "2 positions: pos1, pos2\n",
      "2 color channels: YFP, CFP\n",
      "length of experiment is consistent: 143\n",
      "experiment has consistent headers: Unnamed: 0, globalID, frame, labelID, trackID, lineageID, trackID_d1, trackID_d2, split, trackID_mother, first_frame, last_frame, area, edges_min_row, edges_min_col, edges_max_row, edges_max_col, intensity_max, intensity_mean, intensity_min, minor_axis_length, major_axis_length, x, y\n",
      "\n",
      "FluidExperiment with name: experiment\n",
      "Path: ../../data/midap-tools_example\n",
      "2 positions: pos3, pos4\n",
      "2 color channels: YFP, CFP\n",
      "length of experiment is consistent: 143\n",
      "experiment has consistent headers: Unnamed: 0, globalID, frame, labelID, trackID, lineageID, trackID_d1, trackID_d2, split, trackID_mother, first_frame, last_frame, area, edges_min_row, edges_min_col, edges_max_row, edges_max_col, intensity_max, intensity_mean, intensity_min, minor_axis_length, major_axis_length, x, y\n",
      "\n",
      "FluidExperiment with name: experiment\n",
      "Path: ../../data/midap-tools_example\n",
      "2 positions: pos5, pos6\n",
      "2 color channels: YFP, CFP\n",
      "length of experiment is consistent: 143\n",
      "experiment has consistent headers: Unnamed: 0, globalID, frame, labelID, trackID, lineageID, trackID_d1, trackID_d2, split, trackID_mother, first_frame, last_frame, area, edges_min_row, edges_min_col, edges_max_row, edges_max_col, intensity_max, intensity_mean, intensity_min, minor_axis_length, major_axis_length, x, y\n",
      "\n"
     ]
    }
   ],
   "source": [
    "exp1 = FluidExperiment(PATH, positions=[\"pos1\",\"pos2\"])\n",
    "exp2 = FluidExperiment(PATH, positions=[\"pos3\",\"pos4\"])\n",
    "exp3 = FluidExperiment(PATH, positions=[\"pos5\",\"pos6\"])\n",
    "\n",
    "print(exp1)\n",
    "print(exp2)\n",
    "print(exp3)"
   ]
  },
  {
   "cell_type": "markdown",
   "metadata": {},
   "source": [
    "***\n",
    "\n",
    "now, we can use the following syntax to fuse experiments"
   ]
  },
  {
   "cell_type": "code",
   "execution_count": 25,
   "metadata": {},
   "outputs": [
    {
     "name": "stdout",
     "output_type": "stream",
     "text": [
      "FluidExperiment with name: experiment\n",
      "Path: ../../data/midap-tools_example\n",
      "6 positions: pos1, pos2, pos3, pos4, pos5, pos6\n",
      "2 color channels: YFP, CFP\n",
      "length of experiment is consistent: 143\n",
      "experiment has consistent headers: Unnamed: 0, globalID, frame, labelID, trackID, lineageID, trackID_d1, trackID_d2, split, trackID_mother, first_frame, last_frame, area, edges_min_row, edges_min_col, edges_max_row, edges_max_col, intensity_max, intensity_mean, intensity_min, minor_axis_length, major_axis_length, x, y\n",
      "\n"
     ]
    }
   ],
   "source": [
    "exp4 = exp1 + exp2 + exp3\n",
    "print(exp4)"
   ]
  },
  {
   "cell_type": "markdown",
   "metadata": {},
   "source": [
    "***\n",
    "\n",
    "lets see what happens if we try to add an experiment with the same position names"
   ]
  },
  {
   "cell_type": "code",
   "execution_count": 26,
   "metadata": {},
   "outputs": [
    {
     "name": "stdout",
     "output_type": "stream",
     "text": [
      "FluidExperiment with name: experiment\n",
      "Path: ../../data/midap-tools_example\n",
      "12 positions: pos1, pos2, pos3, pos4, pos5, pos6, pos1.1, pos2.1, pos3.1, pos4.1, pos5.1, pos6.1\n",
      "2 color channels: YFP, CFP\n",
      "length of experiment is consistent: 143\n",
      "experiment has consistent headers: Unnamed: 0, globalID, frame, labelID, trackID, lineageID, trackID_d1, trackID_d2, split, trackID_mother, first_frame, last_frame, area, edges_min_row, edges_min_col, edges_max_row, edges_max_col, intensity_max, intensity_mean, intensity_min, minor_axis_length, major_axis_length, x, y\n",
      "\n"
     ]
    }
   ],
   "source": [
    "exp5 = exp4 + experiment_original\n",
    "\n",
    "print(exp5)"
   ]
  },
  {
   "cell_type": "markdown",
   "metadata": {},
   "source": [
    "***\n",
    "\n",
    "as we can see, it added the data without problem, but modified the name of the positions for the duplicated names to prevent any collisions.\n",
    "\n",
    "lets see what happens if we try to fuse two experiments with non matching color_channels. In this case lets assume we have two experiments with channels:\n",
    "-   exp1: CFP, mcherry\n",
    "-   exp2: CFP, YFP"
   ]
  },
  {
   "cell_type": "code",
   "execution_count": 27,
   "metadata": {},
   "outputs": [
    {
     "ename": "ValueError",
     "evalue": "The color_channels of the two experiments are not identical. self.color_channels: ['CFP', 'mcherry'], other.color_channels: ['YFP', 'CFP']",
     "output_type": "error",
     "traceback": [
      "\u001b[0;31m---------------------------------------------------------------------------\u001b[0m",
      "\u001b[0;31mValueError\u001b[0m                                Traceback (most recent call last)",
      "Cell \u001b[0;32mIn[27], line 3\u001b[0m\n\u001b[1;32m      1\u001b[0m exp1\u001b[38;5;241m.\u001b[39mrename_color_channel(\u001b[38;5;124m\"\u001b[39m\u001b[38;5;124mYFP\u001b[39m\u001b[38;5;124m\"\u001b[39m,\u001b[38;5;124m\"\u001b[39m\u001b[38;5;124mmcherry\u001b[39m\u001b[38;5;124m\"\u001b[39m)\n\u001b[0;32m----> 3\u001b[0m exp_conflict \u001b[38;5;241m=\u001b[39m \u001b[43mexp1\u001b[49m\u001b[43m \u001b[49m\u001b[38;5;241;43m+\u001b[39;49m\u001b[43m \u001b[49m\u001b[43mexp2\u001b[49m\n",
      "File \u001b[0;32m~/SIS/github_midap-tools/midap-tools/src/fluid_experiment/fluid_experiment.py:300\u001b[0m, in \u001b[0;36mFluidExperiment.__add__\u001b[0;34m(self, other)\u001b[0m\n\u001b[1;32m    291\u001b[0m \u001b[38;5;250m\u001b[39m\u001b[38;5;124;03m\"\"\"dunder method to add two FluidExperiments. returns a new FluidExperiment with the data of both experiments. does not fuse in place\u001b[39;00m\n\u001b[1;32m    292\u001b[0m \n\u001b[1;32m    293\u001b[0m \u001b[38;5;124;03mArgs:\u001b[39;00m\n\u001b[0;32m   (...)\u001b[0m\n\u001b[1;32m    297\u001b[0m \u001b[38;5;124;03m    new_exp (FluidExperiment): a new fluid experiment object with the data of both experiments\u001b[39;00m\n\u001b[1;32m    298\u001b[0m \u001b[38;5;124;03m\"\"\"\u001b[39;00m\n\u001b[1;32m    299\u001b[0m new_exp \u001b[38;5;241m=\u001b[39m FluidExperiment\u001b[38;5;241m.\u001b[39mfrom_copy(\u001b[38;5;28mself\u001b[39m)\n\u001b[0;32m--> 300\u001b[0m \u001b[43mnew_exp\u001b[49m\u001b[38;5;241;43m.\u001b[39;49m\u001b[43mfuse\u001b[49m\u001b[43m(\u001b[49m\u001b[43mother\u001b[49m\u001b[43m)\u001b[49m\n\u001b[1;32m    301\u001b[0m \u001b[38;5;28;01mreturn\u001b[39;00m new_exp\n",
      "File \u001b[0;32m~/SIS/github_midap-tools/midap-tools/src/fluid_experiment/fluid_experiment.py:628\u001b[0m, in \u001b[0;36mFluidExperiment.fuse\u001b[0;34m(self, other)\u001b[0m\n\u001b[1;32m    626\u001b[0m     \u001b[38;5;28;01mraise\u001b[39;00m \u001b[38;5;167;01mTypeError\u001b[39;00m(\u001b[38;5;124m\"\u001b[39m\u001b[38;5;124mThe input must be an instance of FluidExperiment.\u001b[39m\u001b[38;5;124m\"\u001b[39m)\n\u001b[1;32m    627\u001b[0m \u001b[38;5;28;01mif\u001b[39;00m \u001b[38;5;28mset\u001b[39m(\u001b[38;5;28mself\u001b[39m\u001b[38;5;241m.\u001b[39mcolor_channels) \u001b[38;5;241m!=\u001b[39m \u001b[38;5;28mset\u001b[39m(other\u001b[38;5;241m.\u001b[39mcolor_channels):\n\u001b[0;32m--> 628\u001b[0m     \u001b[38;5;28;01mraise\u001b[39;00m \u001b[38;5;167;01mValueError\u001b[39;00m(\n\u001b[1;32m    629\u001b[0m         \u001b[38;5;124m\"\u001b[39m\u001b[38;5;124mThe color_channels of the two experiments are not identical. \u001b[39m\u001b[38;5;124m\"\u001b[39m\n\u001b[1;32m    630\u001b[0m         \u001b[38;5;124mf\u001b[39m\u001b[38;5;124m\"\u001b[39m\u001b[38;5;124mself.color_channels: \u001b[39m\u001b[38;5;132;01m{\u001b[39;00m\u001b[38;5;28mself\u001b[39m\u001b[38;5;241m.\u001b[39mcolor_channels\u001b[38;5;132;01m}\u001b[39;00m\u001b[38;5;124m, other.color_channels: \u001b[39m\u001b[38;5;132;01m{\u001b[39;00mother\u001b[38;5;241m.\u001b[39mcolor_channels\u001b[38;5;132;01m}\u001b[39;00m\u001b[38;5;124m\"\u001b[39m\n\u001b[1;32m    631\u001b[0m     )\n\u001b[1;32m    633\u001b[0m \u001b[38;5;66;03m# Ensure unique position names for the second experiment\u001b[39;00m\n\u001b[1;32m    634\u001b[0m other_positions_renamed \u001b[38;5;241m=\u001b[39m \u001b[38;5;28mself\u001b[39m\u001b[38;5;241m.\u001b[39m_generate_unique_positions(other\u001b[38;5;241m.\u001b[39mpositions)\n",
      "\u001b[0;31mValueError\u001b[0m: The color_channels of the two experiments are not identical. self.color_channels: ['CFP', 'mcherry'], other.color_channels: ['YFP', 'CFP']"
     ]
    }
   ],
   "source": [
    "exp1.rename_color_channel(\"YFP\",\"mcherry\")\n",
    "\n",
    "exp_conflict = exp1 + exp2"
   ]
  },
  {
   "cell_type": "markdown",
   "metadata": {},
   "source": [
    "***\n",
    "\n",
    "we note that midap-tools now throws an error. each sample needs to have the same set of color channels to enable us to fuse them. Otherwise many downstream applications would break down\n",
    "\n",
    "If we still would want to analyze the combined CFP data in this example, we could do the following"
   ]
  },
  {
   "cell_type": "code",
   "execution_count": 28,
   "metadata": {},
   "outputs": [
    {
     "name": "stdout",
     "output_type": "stream",
     "text": [
      "Dropping color_channel mcherry from position pos1 in experiment\n",
      "Dropping color_channel mcherry from position pos2 in experiment\n",
      "Dropping color_channel YFP from position pos3 in experiment\n",
      "Dropping color_channel YFP from position pos4 in experiment\n",
      "FluidExperiment with name: experiment\n",
      "Path: ../../data/midap-tools_example\n",
      "4 positions: pos1, pos2, pos3, pos4\n",
      "1 color channels: CFP\n",
      "length of experiment is consistent: 143\n",
      "experiment has consistent headers: Unnamed: 0, globalID, frame, labelID, trackID, lineageID, trackID_d1, trackID_d2, split, trackID_mother, first_frame, last_frame, area, edges_min_row, edges_min_col, edges_max_row, edges_max_col, intensity_max, intensity_mean, intensity_min, minor_axis_length, major_axis_length, x, y\n",
      "\n"
     ]
    }
   ],
   "source": [
    "exp1.drop_color_channels(\"mcherry\")\n",
    "exp2.drop_color_channels(\"YFP\")\n",
    "\n",
    "exp_noconflict = exp1 + exp2\n",
    "print(exp_noconflict)"
   ]
  }
 ],
 "metadata": {
  "kernelspec": {
   "display_name": "midap-tools",
   "language": "python",
   "name": "python3"
  },
  "language_info": {
   "codemirror_mode": {
    "name": "ipython",
    "version": 3
   },
   "file_extension": ".py",
   "mimetype": "text/x-python",
   "name": "python",
   "nbconvert_exporter": "python",
   "pygments_lexer": "ipython3",
   "version": "3.10.16"
  }
 },
 "nbformat": 4,
 "nbformat_minor": 2
}
