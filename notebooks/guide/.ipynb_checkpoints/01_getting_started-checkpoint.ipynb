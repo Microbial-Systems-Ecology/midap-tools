{
 "cells": [
  {
   "cell_type": "markdown",
   "metadata": {},
   "source": [
    "# Chapter 1: Getting started with midap-tools\n",
    "\n",
    "Midap-tools is a toolbox that allows easy loading, visualization and mainpulation of midap output data. \n",
    "Midap is a software that enables segmenation and tracking of microfluidic experiments (microsopy imaging). See [midap](https://github.com/Microbial-Systems-Ecology/midap) for more information.\n",
    "\n",
    "Midap-tools is intendend to be used in jupyter notebooks\n",
    "\n",
    "## downlaoding example data\n",
    "\n",
    "Midap-tools comes with a \"small\" example dataset. This dataset is a 1.2 GB download and requires 17 GB of disk space when unziped!\n",
    "you can get the exampled data [here](https://polybox.ethz.ch/index.php/s/cHH2LXyZedcd6F6)\n",
    "Download the zip file, put it in a suitable folder and unzip it.\n",
    "**Tip:** all guide documents will work out of the box if you put the zip file into the folder /data and unzip it there. However, midap-tools allows you to load data from anywhere on your computer as long as specify the global path of the folder\n",
    "\n",
    "## Working with midap-tools\n",
    "\n",
    "In order to work with midap tools, you will need to import the class `FluidExperiment` from the package\n",
    "first ensure the correct conda environment is loaded (see installation at main page)\n",
    "if you are using VSCode with jupyter notebooks, ensure the kernel is set to the correct environment (midap-tools)"
   ]
  },
  {
   "cell_type": "code",
   "execution_count": 7,
   "metadata": {},
   "outputs": [
    {
     "name": "stdout",
     "output_type": "stream",
     "text": [
      "Loading sample at position pos1 for color channel YFP\n",
      "Loading sample at position pos1 for color channel CFP\n",
      "Loading sample at position pos2 for color channel YFP\n",
      "Loading sample at position pos2 for color channel CFP\n",
      "Loading sample at position pos3 for color channel YFP\n",
      "Loading sample at position pos3 for color channel CFP\n",
      "Loading sample at position pos4 for color channel YFP\n",
      "Loading sample at position pos4 for color channel CFP\n",
      "Loading sample at position pos5 for color channel YFP\n",
      "Loading sample at position pos5 for color channel CFP\n",
      "Loading sample at position pos6 for color channel YFP\n",
      "Loading sample at position pos6 for color channel CFP\n",
      "Successfully loaded data with consistent number of frames: 143\n",
      "FluidExperiment with path: ../../data/midap-tools_example\n",
      "6 positions: pos1, pos2, pos3, pos4, pos5, pos6\n",
      "2 color channels: YFP, CFP\n",
      "length of experiment is consistent: 143\n",
      "experiment has consistent headers: Unnamed: 0, globalID, frame, labelID, trackID, lineageID, trackID_d1, trackID_d2, split, trackID_mother, first_frame, last_frame, area, edges_min_row, edges_min_col, edges_max_row, edges_max_col, intensity_max, intensity_mean, intensity_min, minor_axis_length, major_axis_length, x, y\n",
      "\n"
     ]
    }
   ],
   "source": [
    "from fluid_experiment.fluid_experiment import FluidExperiment\n",
    "\n",
    "test = FluidExperiment(\"../../data/midap-tools_example\")\n",
    "print(test)"
   ]
  }
 ],
 "metadata": {
  "kernelspec": {
   "display_name": "midap-tools",
   "language": "python",
   "name": "python3"
  },
  "language_info": {
   "codemirror_mode": {
    "name": "ipython",
    "version": 3
   },
   "file_extension": ".py",
   "mimetype": "text/x-python",
   "name": "python",
   "nbconvert_exporter": "python",
   "pygments_lexer": "ipython3",
   "version": "3.10.16"
  }
 },
 "nbformat": 4,
 "nbformat_minor": 2
}
