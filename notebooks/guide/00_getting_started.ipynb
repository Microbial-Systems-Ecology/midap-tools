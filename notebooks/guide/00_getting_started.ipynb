{
 "cells": [
  {
   "cell_type": "markdown",
   "metadata": {},
   "source": [
    "# Chapter 0: Getting started with midap-tools\n",
    "\n",
    "Midap-tools is a toolbox that allows easy loading, visualization and mainpulation of midap output data. \n",
    "Midap is a software that enables segmenation and tracking of microfluidic experiments (microsopy imaging). See [midap](https://github.com/Microbial-Systems-Ecology/midap) for more information.\n",
    "\n",
    "Midap-tools is intendend to be used in jupyter notebooks\n"
   ]
  },
  {
   "cell_type": "markdown",
   "metadata": {},
   "source": [
    "## Working with midap-tools\n",
    "\n",
    "In order to work with midap tools, you will need to import the class `FluidExperiment` from the package\n",
    "first ensure the correct conda environment is loaded (see installation at main page)\n",
    "if you are using VSCode, ensure the kernel is set to the correct environment (midap-tools)\n",
    "\n",
    "**Tip:** you may have to restart VSCode once to find the new kernel\n",
    "\n",
    "First, lets check if the kernel loads correctly and can access the code:"
   ]
  },
  {
   "cell_type": "code",
   "execution_count": 3,
   "metadata": {},
   "outputs": [
    {
     "data": {
      "text/plain": [
       "fluid_experiment.fluid_experiment.FluidExperiment"
      ]
     },
     "execution_count": 3,
     "metadata": {},
     "output_type": "execute_result"
    }
   ],
   "source": [
    "from fluid_experiment.fluid_experiment import FluidExperiment\n",
    "\n",
    "FluidExperiment"
   ]
  },
  {
   "cell_type": "markdown",
   "metadata": {},
   "source": [
    "You should see the output `fluid_experiment.fluid_experiment.FluidExperiment`. If this is the case, everything works as intendend. \n",
    "if you get an error message `ModuleNotFoundError: No module named 'fluid_experiment.fluid_experiment'` this indicates that the kernel is not loaded\n",
    "\n"
   ]
  },
  {
   "cell_type": "markdown",
   "metadata": {},
   "source": [
    "## Downloading example data\n",
    "\n",
    "Midap-tools comes with a \"small\" example dataset. This dataset is a 1.2 GB download and requires 17.8 GB of disk space when unziped!\n",
    "you can get the exampled data [here](https://polybox.ethz.ch/index.php/s/piPbsqtEC9HbCP2)\n",
    "Download the zip file, put it in a suitable folder and unzip it.\n",
    "\n",
    "**Tip:** all guide documents will work out of the box if you put the zip file into the folder /data and unzip it there. However, midap-tools allows you to load data from anywhere on your computer as long as specify the global path of the folder\n",
    "\n",
    "if you want to automatically download the data and put it in the correct location, you can execute the following code cell:"
   ]
  },
  {
   "cell_type": "code",
   "execution_count": 4,
   "metadata": {},
   "outputs": [
    {
     "name": "stdout",
     "output_type": "stream",
     "text": [
      "Downloading test data...\n"
     ]
    }
   ],
   "source": [
    "import requests, zipfile, io\n",
    "from pathlib import Path\n",
    "\n",
    "EXAMPLE_DATA_URL = \"https://polybox.ethz.ch/index.php/s/piPbsqtEC9HbCP2/download/midap-tools_example.zip\"\n",
    "EXAMPLE_DATA_PATH = Path(\"../../data\")\n",
    "\n",
    "print(\"Downloading test data...\")\n",
    "response = requests.get(EXAMPLE_DATA_URL)\n",
    "with zipfile.ZipFile(io.BytesIO(response.content)) as z:\n",
    "    z.extractall(EXAMPLE_DATA_PATH)"
   ]
  },
  {
   "cell_type": "markdown",
   "metadata": {},
   "source": [
    "**Warning:** keep in mind that you downloaded 18 GB of data and put them into this project folder if you executed this command. It is recommended to delete the folder `\"../../data/midap-tools_example\"` after you are done with the guide."
   ]
  },
  {
   "cell_type": "markdown",
   "metadata": {},
   "source": [
    "## The design of midap-tools\n",
    "\n",
    "For the interested reader this section will quickly introduce the design philosophy of midap-tools\n",
    "\n",
    "midap-tools works on 3 layers\n",
    "1.  your raw data (the basis)\n",
    "2.  the FluidExperiment object (the connector)\n",
    "3.  individual analysis and plotting methods (the analyzer)\n",
    "\n",
    "midap-tools tries rigourously to keep these 3 layers seperate whenever possible. This means:\n",
    "\n",
    "-   midap-tools will never change any raw data. If you load data from a midap output folder you can be sure that it will not overwrite any midap output in the process!\n",
    "-   the FluidExperiment only performs actions to\n",
    "    - load your data and keeps a modified version of it in memory\n",
    "    - match your data to metadata (i.e your grouping)\n",
    "    - pass this data on to analysis or plotting methods and collect the results\n",
    "        - in some cases it offers you the option to reference your own adapted methods\n",
    "    - return or show these results to you\n",
    "-   the individual analysis and plotting methods are designed so:\n",
    "    - each works with a standardized input format (usually a pandas dataframe or a collection of dataframes)\n",
    "    - each returns a standardized output format (usually a modified pandas dataframe or a plot)\n",
    "    - it is easy to create a copy of one and adjust it to your own needs (read Chapter 7 to learn about power user methods)\n",
    "\n",
    "\n",
    "if you are interested in the source code, `src/fluid_experiment/fluid_experiment.py` contains all FluidExperiment operations that connect data to operations\n",
    "\n",
    "whereas the folders `src/analysis`, `src/mutate`, `src/plotting` and `src/report` contain all the individual operations to create a single analysis / plot from a simpler input data structure (i.e a pandas DataFrame)"
   ]
  }
 ],
 "metadata": {
  "kernelspec": {
   "display_name": "midap-tools",
   "language": "python",
   "name": "python3"
  },
  "language_info": {
   "codemirror_mode": {
    "name": "ipython",
    "version": 3
   },
   "file_extension": ".py",
   "mimetype": "text/x-python",
   "name": "python",
   "nbconvert_exporter": "python",
   "pygments_lexer": "ipython3",
   "version": "3.10.16"
  }
 },
 "nbformat": 4,
 "nbformat_minor": 4
}
