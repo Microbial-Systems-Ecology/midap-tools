{
 "cells": [
  {
   "cell_type": "markdown",
   "metadata": {},
   "source": [
    "# Exercise for Chapter 1\n",
    "\n",
    "perform the following operation:\n",
    "\n",
    "-   from the example data, load only positions pos2, pos3, pos5, pos6\n",
    "-   from the example data, only load color_channel YFP\n",
    "-   give the experiment the name exercise_01\n",
    "-   add metadata with the following grouping variables:\n",
    "    -   groupA = pos2, pos5\n",
    "    -   groupB = pos3, pos6\n",
    "-   print experiment details to ensure everything was assigned correctly\n",
    "-   save the experiment"
   ]
  },
  {
   "cell_type": "code",
   "execution_count": null,
   "metadata": {},
   "outputs": [],
   "source": [
    "from fluid_experiment.fluid_experiment import FluidExperiment\n",
    "PATH = \"../../../data/midap-tools_example\"\n",
    "\n",
    "###YOUR SOLUTION HERE"
   ]
  }
 ],
 "metadata": {
  "language_info": {
   "name": "python"
  }
 },
 "nbformat": 4,
 "nbformat_minor": 2
}
