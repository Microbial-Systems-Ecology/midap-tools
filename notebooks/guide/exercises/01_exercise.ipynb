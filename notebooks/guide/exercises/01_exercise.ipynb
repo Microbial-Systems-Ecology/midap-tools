{
 "cells": [
  {
   "cell_type": "markdown",
   "metadata": {},
   "source": [
    "# Exercise for Chapter 1\n",
    "\n",
    "perform the following operation:\n",
    "\n",
    "-   from the example data, load only positions pos2, pos3, pos5, pos6\n",
    "-   from the example data, only load color_channel YFP\n",
    "-   give the experiment the name exercise_01\n",
    "-   add metadata with the following grouping variables:\n",
    "    -   groupA = pos2, pos5\n",
    "    -   groupB = pos3, pos6\n",
    "-   print experiment details to ensure everything was assigned correctly\n",
    "-   save the experiment"
   ]
  },
  {
   "cell_type": "code",
   "execution_count": 1,
   "metadata": {},
   "outputs": [],
   "source": [
    "from fluid_experiment.fluid_experiment import FluidExperiment\n",
    "PATH = \"../../../data/midap-tools_example\"\n",
    "\n",
    "###YOUR SOLUTION HERE"
   ]
  }
 ],
 "metadata": {
  "kernelspec": {
   "display_name": "Python 3 (ipykernel)",
   "language": "python",
   "name": "python3"
  },
  "language_info": {
   "codemirror_mode": {
    "name": "ipython",
    "version": 3
   },
   "file_extension": ".py",
   "mimetype": "text/x-python",
   "name": "python",
   "nbconvert_exporter": "python",
   "pygments_lexer": "ipython3",
   "version": "3.10.16"
  }
 },
 "nbformat": 4,
 "nbformat_minor": 4
}
