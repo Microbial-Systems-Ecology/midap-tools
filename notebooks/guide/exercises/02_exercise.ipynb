{
 "cells": [
  {
   "cell_type": "markdown",
   "metadata": {},
   "source": [
    "# Exercise for Chapter 2\n",
    "\n",
    "perform the following quality control tasks:\n",
    "\n",
    "***\n",
    "\n",
    "Problem 1:\n",
    "\n",
    "We want to investigate how well lineages are maintained throughout our experiment. at multiple points, a cell may split. in this case, the trackID will be split into two new trackIDs.\n",
    "However, the lineageID should stay the same for both offsprings.\n",
    "\n",
    "Your task:\n",
    "\n",
    "Create a plot that shows 4 random samples of `area` readout for `lineageID` over time for each position and color_channel\n",
    "\n",
    "***\n",
    "\n",
    "Problem 2:\n",
    "\n",
    "We suspect that our data may be subject to bleaching over time, especially because our cells stop growing after 20 frames\n",
    "\n",
    "Your taks:\n",
    "\n",
    "investigate if there is a linear correlation between time and mean_intensity for both groups and both color_channels\n",
    "\n",
    "***\n",
    "\n",
    "Problem 3:\n",
    "\n",
    "We want to visually confirm how well the splitting is detected in our tracking data.\n",
    "\n",
    "Your task:\n",
    "\n",
    "use a spatial map on position 6 at frame 10 colored by split. then, create a spatial map one frame later to visually confirm how reliable splits are detected\n"
   ]
  },
  {
   "cell_type": "code",
   "execution_count": 22,
   "metadata": {},
   "outputs": [
    {
     "name": "stdout",
     "output_type": "stream",
     "text": [
      "Loading sample at position pos1 for color channel YFP\n",
      "Loading sample at position pos1 for color channel CFP\n",
      "Loading sample at position pos2 for color channel YFP\n",
      "Loading sample at position pos2 for color channel CFP\n",
      "Loading sample at position pos3 for color channel YFP\n",
      "Loading sample at position pos3 for color channel CFP\n",
      "Loading sample at position pos4 for color channel YFP\n",
      "Loading sample at position pos4 for color channel CFP\n",
      "Loading sample at position pos5 for color channel YFP\n",
      "Loading sample at position pos5 for color channel CFP\n",
      "Loading sample at position pos6 for color channel YFP\n",
      "Loading sample at position pos6 for color channel CFP\n",
      "Successfully loaded data with consistent number of frames: 143\n",
      "Filtering out trackID with less than 5 occurences\n",
      "Filtering channel YFP at position pos1:\n",
      "Filtering channel CFP at position pos1:\n",
      "Filtering channel YFP at position pos2:\n",
      "Filtering channel CFP at position pos2:\n",
      "Filtering channel YFP at position pos3:\n",
      "Filtering channel CFP at position pos3:\n",
      "Filtering channel YFP at position pos4:\n",
      "Filtering channel CFP at position pos4:\n",
      "Filtering channel YFP at position pos5:\n",
      "Filtering channel CFP at position pos5:\n",
      "Filtering channel YFP at position pos6:\n",
      "Filtering channel CFP at position pos6:\n",
      "FluidExperiment with name: example_experiment\n",
      "Path: ../../../data/midap-tools_example\n",
      "6 positions: pos1, pos2, pos3, pos4, pos5, pos6\n",
      "2 color channels: YFP, CFP\n",
      "length of experiment is consistent: 143\n",
      "experiment has consistent headers: Unnamed: 0, globalID, frame, labelID, trackID, lineageID, trackID_d1, trackID_d2, split, trackID_mother, first_frame, last_frame, area, edges_min_row, edges_min_col, edges_max_row, edges_max_col, intensity_max, intensity_mean, intensity_min, minor_axis_length, major_axis_length, x, y\n",
      "Experiment has metadata:\n",
      "         position   group          experiment  device_channel\n",
      "position                                                     \n",
      "pos1         pos1  Group1  example_experiment               1\n",
      "pos2         pos2  Group1  example_experiment               2\n",
      "pos3         pos3  Group1  example_experiment               3\n",
      "pos4         pos4  Group2  example_experiment               1\n",
      "pos5         pos5  Group2  example_experiment               2\n",
      "pos6         pos6  Group2  example_experiment               3\n"
     ]
    }
   ],
   "source": [
    "from fluid_experiment.fluid_experiment import FluidExperiment\n",
    "PATH = \"../../../data/midap-tools_example\"\n",
    "experiment = FluidExperiment(PATH, name = \"example_experiment\")\n",
    "experiment.load_metadata_template()\n",
    "experiment.filter_data(column=\"trackID\",min_occurences=5)\n",
    "print(experiment)\n",
    "\n",
    "### YOUR SOLUTION BELOW\n",
    "### Problem 1\n",
    "\n",
    "### Problem 2\n",
    "\n",
    "### Problem 3\n"
   ]
  }
 ],
 "metadata": {
  "kernelspec": {
   "display_name": "midap-tools",
   "language": "python",
   "name": "python3"
  },
  "language_info": {
   "codemirror_mode": {
    "name": "ipython",
    "version": 3
   },
   "file_extension": ".py",
   "mimetype": "text/x-python",
   "name": "python",
   "nbconvert_exporter": "python",
   "pygments_lexer": "ipython3",
   "version": "3.10.16"
  }
 },
 "nbformat": 4,
 "nbformat_minor": 2
}
