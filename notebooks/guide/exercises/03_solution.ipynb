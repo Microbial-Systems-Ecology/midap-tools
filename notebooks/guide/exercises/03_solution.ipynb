{
 "cells": [
  {
   "cell_type": "markdown",
   "metadata": {},
   "source": [
    "# Solution for Chapter 3\n",
    "\n",
    "In this exercise, your task is to create a special experiment dataset\n",
    "\n",
    "-   you have to start with the already loaded dataset named `exercise_03` (dont reload anything)\n",
    "-   the dataset should have a single color channel with the name `fluoro`\n",
    "-   it should include 4 positions,  pos2, pos3, pos4, pos5\n",
    "-   from pos2 and pos3, the channel CFP should be used for `fluoro`\n",
    "-   from pos4 and pos5 the channel YFP should be used for `fluoro`\n",
    "-   the metadata should have an additional column with the name `fluoro_type` that corresponds to the above details"
   ]
  },
  {
   "cell_type": "code",
   "execution_count": 2,
   "metadata": {},
   "outputs": [
    {
     "name": "stdout",
     "output_type": "stream",
     "text": [
      "Loading sample at position pos1 for color channel YFP\n",
      "Loading sample at position pos1 for color channel CFP\n",
      "Loading sample at position pos2 for color channel YFP\n",
      "Loading sample at position pos2 for color channel CFP\n",
      "Loading sample at position pos3 for color channel YFP\n",
      "Loading sample at position pos3 for color channel CFP\n",
      "Loading sample at position pos4 for color channel YFP\n",
      "Loading sample at position pos4 for color channel CFP\n",
      "Loading sample at position pos5 for color channel YFP\n",
      "Loading sample at position pos5 for color channel CFP\n",
      "Loading sample at position pos6 for color channel YFP\n",
      "Loading sample at position pos6 for color channel CFP\n",
      "Successfully loaded data with consistent number of frames: 143\n",
      "FluidExperiment with name: exercise_03\n",
      "Path: ../../../data/midap-tools_example\n",
      "6 positions: pos1, pos2, pos3, pos4, pos5, pos6\n",
      "2 color channels: YFP, CFP\n",
      "length of experiment is consistent: 143\n",
      "experiment has consistent headers: Unnamed: 0, globalID, frame, labelID, trackID, lineageID, trackID_d1, trackID_d2, split, trackID_mother, first_frame, last_frame, area, edges_min_row, edges_min_col, edges_max_row, edges_max_col, intensity_max, intensity_mean, intensity_min, minor_axis_length, major_axis_length, x, y\n",
      "\n",
      "Dropping color_channel YFP from position pos1 in experiment\n",
      "Dropping color_channel YFP from position pos2 in experiment\n",
      "Dropping color_channel YFP from position pos3 in experiment\n",
      "Dropping color_channel YFP from position pos4 in experiment\n",
      "Dropping color_channel YFP from position pos5 in experiment\n",
      "Dropping color_channel YFP from position pos6 in experiment\n",
      "Dropping position pos1 from experiment\n",
      "Dropping position pos4 from experiment\n",
      "Dropping position pos5 from experiment\n",
      "Dropping position pos6 from experiment\n",
      "Dropping color_channel CFP from position pos1 in experiment\n",
      "Dropping color_channel CFP from position pos2 in experiment\n",
      "Dropping color_channel CFP from position pos3 in experiment\n",
      "Dropping color_channel CFP from position pos4 in experiment\n",
      "Dropping color_channel CFP from position pos5 in experiment\n",
      "Dropping color_channel CFP from position pos6 in experiment\n",
      "Dropping position pos1 from experiment\n",
      "Dropping position pos2 from experiment\n",
      "Dropping position pos3 from experiment\n",
      "Dropping position pos6 from experiment\n",
      "Skipped: metadata file already exists at ../../../data/midap-tools_example/exercise_03_metadata.csv\n",
      "FluidExperiment with name: exercise_03\n",
      "Path: ../../../data/midap-tools_example\n",
      "4 positions: pos2, pos3, pos4, pos5\n",
      "1 color channels: fluoro\n",
      "length of experiment is consistent: 143\n",
      "experiment has consistent headers: Unnamed: 0, globalID, frame, labelID, trackID, lineageID, trackID_d1, trackID_d2, split, trackID_mother, first_frame, last_frame, area, edges_min_row, edges_min_col, edges_max_row, edges_max_col, intensity_max, intensity_mean, intensity_min, minor_axis_length, major_axis_length, x, y\n",
      "Experiment has metadata:\n",
      "         position    group   experiment  device_channel fluoro_type\n",
      "position                                                           \n",
      "pos2         pos2  default  exercise_03             NaN         CFP\n",
      "pos3         pos3  default  exercise_03             NaN         CFP\n",
      "pos4         pos4  default  exercise_03             NaN         YFP\n",
      "pos5         pos5  default  exercise_03             NaN         YFP\n"
     ]
    }
   ],
   "source": [
    "from fluid_experiment.fluid_experiment import FluidExperiment\n",
    "PATH = \"../../../data/midap-tools_example\"\n",
    "experiment = FluidExperiment(PATH,name = \"exercise_03\")\n",
    "print(experiment)\n",
    "\n",
    "###YOUR SOLUTION HERE\n",
    "\n",
    "subset1 = FluidExperiment.from_copy(experiment)\n",
    "subset1.drop_color_channels(\"YFP\")\n",
    "subset1.drop_positions([\"pos1\",\"pos4\",\"pos5\",\"pos6\"])\n",
    "subset1.rename_color_channel(\"CFP\",\"fluoro\")\n",
    "subset2 = FluidExperiment.from_copy(experiment)\n",
    "subset2.drop_color_channels(\"CFP\")\n",
    "subset2.drop_positions([\"pos1\",\"pos2\",\"pos3\",\"pos6\"])\n",
    "subset2.rename_color_channel(\"YFP\",\"fluoro\")\n",
    "\n",
    "\n",
    "new_experiment = subset1 + subset2\n",
    "new_experiment.create_metadata_template()\n",
    "#Here, we have to open the file in excel and add a new column named \"fluoro_type\" with the entries CFP, CFP, YFP, YFP\n",
    "new_experiment.load_metadata_template()\n",
    "\n",
    "print(new_experiment)"
   ]
  }
 ],
 "metadata": {
  "kernelspec": {
   "display_name": "midap-tools",
   "language": "python",
   "name": "python3"
  },
  "language_info": {
   "codemirror_mode": {
    "name": "ipython",
    "version": 3
   },
   "file_extension": ".py",
   "mimetype": "text/x-python",
   "name": "python",
   "nbconvert_exporter": "python",
   "pygments_lexer": "ipython3",
   "version": "3.10.16"
  }
 },
 "nbformat": 4,
 "nbformat_minor": 2
}
