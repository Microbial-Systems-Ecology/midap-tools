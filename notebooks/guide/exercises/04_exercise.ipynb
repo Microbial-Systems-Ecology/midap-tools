{
 "cells": [
  {
   "cell_type": "markdown",
   "metadata": {},
   "source": [
    "# Exercise for Chapter 4\n",
    "\n",
    "You just received data from a new experiment and after an initial QC visualization you notice a number of issues.\n",
    "\n",
    "-   you want to create log transforms of area\n",
    "    -   the responding column should be renamed to \"log_size\"\n",
    "-   you want to apply a number of filters to remove problematic data\n",
    "    -   you notice many single occurence trackIDs. you want to filter our any trackID that occurs less than 3 times\n",
    "    -   you notice that some cells are unresonabely short and are probably artefacts. you want to filter out any cell with a `major_axis_length` of less than 20\n",
    "    -   you notice that some cells have very low max intensity values. any cell with a `intensity_max` of less than 0.2 has to be removed\n",
    "    -   you notice that quality sharpyl drops depending on x positions. any `x` coordinate > 100 and < 800 should be filtered out\n",
    "    -   you notice that your data becomes problematic after frame 50. ensure your experiment has data from `frame` 0 to 50\n",
    "-   before you apply the filters, ensure you create a copy of the experiment so you have a before reference\n",
    "-   after you apply the filters, plot a QC histogram for log_size aggregated by experiment\n",
    "-   create the same plot for the copied data without filters\n",
    "-   finally, print out a filter_history\n"
   ]
  },
  {
   "cell_type": "code",
   "execution_count": 2,
   "metadata": {},
   "outputs": [
    {
     "name": "stdout",
     "output_type": "stream",
     "text": [
      "Loading sample at position pos1 for color channel YFP\n",
      "Loading sample at position pos1 for color channel CFP\n",
      "Loading sample at position pos2 for color channel YFP\n",
      "Loading sample at position pos2 for color channel CFP\n",
      "Loading sample at position pos3 for color channel YFP\n",
      "Loading sample at position pos3 for color channel CFP\n",
      "Loading sample at position pos4 for color channel YFP\n",
      "Loading sample at position pos4 for color channel CFP\n",
      "Loading sample at position pos5 for color channel YFP\n",
      "Loading sample at position pos5 for color channel CFP\n",
      "Loading sample at position pos6 for color channel YFP\n",
      "Loading sample at position pos6 for color channel CFP\n",
      "Successfully loaded data with consistent number of frames: 143\n",
      "FluidExperiment with name: example_experiment\n",
      "Path: ../../../data/midap-tools_example\n",
      "6 positions: pos1, pos2, pos3, pos4, pos5, pos6\n",
      "2 color channels: YFP, CFP\n",
      "length of experiment is consistent: 143\n",
      "experiment has consistent headers: Unnamed: 0, globalID, frame, labelID, trackID, lineageID, trackID_d1, trackID_d2, split, trackID_mother, first_frame, last_frame, area, edges_min_row, edges_min_col, edges_max_row, edges_max_col, intensity_max, intensity_mean, intensity_min, minor_axis_length, major_axis_length, x, y\n",
      "Experiment has metadata:\n",
      "         position   group          experiment  device_channel\n",
      "position                                                     \n",
      "pos1         pos1  Group1  example_experiment               1\n",
      "pos2         pos2  Group1  example_experiment               2\n",
      "pos3         pos3  Group1  example_experiment               3\n",
      "pos4         pos4  Group2  example_experiment               1\n",
      "pos5         pos5  Group2  example_experiment               2\n",
      "pos6         pos6  Group2  example_experiment               3\n"
     ]
    }
   ],
   "source": [
    "from fluid_experiment.fluid_experiment import FluidExperiment\n",
    "PATH = \"../../../data/midap-tools_example\"\n",
    "experiment = FluidExperiment(PATH,name = \"example_experiment\")\n",
    "experiment.load_metadata_template()\n",
    "print(experiment)\n",
    "\n",
    "###YOUR SOLUTION HERE\n",
    "\n"
   ]
  }
 ],
 "metadata": {
  "kernelspec": {
   "display_name": "midap-tools",
   "language": "python",
   "name": "python3"
  },
  "language_info": {
   "codemirror_mode": {
    "name": "ipython",
    "version": 3
   },
   "file_extension": ".py",
   "mimetype": "text/x-python",
   "name": "python",
   "nbconvert_exporter": "python",
   "pygments_lexer": "ipython3",
   "version": "3.10.16"
  }
 },
 "nbformat": 4,
 "nbformat_minor": 2
}
