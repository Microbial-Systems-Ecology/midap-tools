{
 "cells": [
  {
   "cell_type": "markdown",
   "metadata": {},
   "source": [
    "# Solution for Chapter 1\n",
    "\n",
    "perform the following operation:\n",
    "\n",
    "-   from the example data, load only positions pos2, pos3, pos5, pos6\n",
    "-   from the example data, only load color_channel YFP\n",
    "-   give the experiment the name exercise_01\n",
    "-   add metadata with the following grouping variables:\n",
    "    -   groupA = pos2, pos5\n",
    "    -   groupB = pos3, pos6\n",
    "-   print experiment details to ensure everything was assigned correctly\n",
    "-   save the experiment\n"
   ]
  },
  {
   "cell_type": "code",
   "execution_count": 5,
   "metadata": {},
   "outputs": [
    {
     "name": "stdout",
     "output_type": "stream",
     "text": [
      "Loading sample at position pos2 for color channel YFP\n",
      "Loading sample at position pos3 for color channel YFP\n",
      "Loading sample at position pos5 for color channel YFP\n",
      "Loading sample at position pos6 for color channel YFP\n",
      "Successfully loaded data with consistent number of frames: 143\n",
      "Skipped: metadata file already exists at ../../../data/midap-tools_example/exercise_01_metadata.csv\n"
     ]
    }
   ],
   "source": [
    "from fluid_experiment.fluid_experiment import FluidExperiment\n",
    "PATH = \"../../../data/midap-tools_example\"\n",
    "\n",
    "experiment = FluidExperiment(PATH, color_channels= \"YFP\", positions= [\"pos2\",\"pos3\",\"pos5\",\"pos6\"], name= \"exercise_01\")\n",
    "experiment.create_metadata_template()"
   ]
  },
  {
   "cell_type": "markdown",
   "metadata": {},
   "source": [
    "***\n",
    "\n",
    "In the next step we open the metadata template using excel, and fill in the correct groupings\n",
    "then, we load the metadata file again"
   ]
  },
  {
   "cell_type": "code",
   "execution_count": 6,
   "metadata": {},
   "outputs": [
    {
     "name": "stdout",
     "output_type": "stream",
     "text": [
      "FluidExperiment with name: exercise_01\n",
      "Path: ../../../data/midap-tools_example\n",
      "4 positions: pos2, pos3, pos5, pos6\n",
      "1 color channels: YFP\n",
      "length of experiment is consistent: 143\n",
      "experiment has consistent headers: Unnamed: 0, globalID, frame, labelID, trackID, lineageID, trackID_d1, trackID_d2, split, trackID_mother, first_frame, last_frame, area, edges_min_row, edges_min_col, edges_max_row, edges_max_col, intensity_max, intensity_mean, intensity_min, minor_axis_length, major_axis_length, x, y\n",
      "Experiment has metadata:\n",
      "         position   group   experiment  device_channel\n",
      "position                                              \n",
      "pos2         pos2  groupA  exercise_01             NaN\n",
      "pos3         pos3  groupB  exercise_01             NaN\n",
      "pos5         pos5  groupA  exercise_01             NaN\n",
      "pos6         pos6  groupB  exercise_01             NaN\n"
     ]
    },
    {
     "name": "stdout",
     "output_type": "stream",
     "text": [
      "Saved experiment at ../../../data/midap-tools_example/exercise_01.h5\n"
     ]
    }
   ],
   "source": [
    "experiment.load_metadata_template()\n",
    "print(experiment)\n",
    "experiment.save()"
   ]
  }
 ],
 "metadata": {
  "kernelspec": {
   "display_name": "midap-tools",
   "language": "python",
   "name": "python3"
  },
  "language_info": {
   "codemirror_mode": {
    "name": "ipython",
    "version": 3
   },
   "file_extension": ".py",
   "mimetype": "text/x-python",
   "name": "python",
   "nbconvert_exporter": "python",
   "pygments_lexer": "ipython3",
   "version": "3.10.16"
  }
 },
 "nbformat": 4,
 "nbformat_minor": 2
}
