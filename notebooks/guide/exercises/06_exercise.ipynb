{
 "cells": [
  {
   "cell_type": "markdown",
   "metadata": {},
   "source": [
    "# Exercise Chapter 6\n",
    "\n",
    "\n",
    "In this exercise, we want to to fine-tune our local neighborhood distance calculation parameters for follow up experiments. The idea is to try out many different distance parameters and see how they influence the correlation between growth rate and density\n",
    "\n",
    "-   for this we calculate the local neighborhood with different distance cutoffs (10,25,50,100,200,400) once with including empty space in the calculation and once without\n",
    "-   we then create a spatial maps plot for each showing coloring by the density (use position 3 at frame 10 as reference plot)\n",
    "-   in addition, we plot an xy correlation of growth rate vs density on data aggregated on the experiment level\n"
   ]
  },
  {
   "cell_type": "code",
   "execution_count": 1,
   "metadata": {},
   "outputs": [
    {
     "name": "stdout",
     "output_type": "stream",
     "text": [
      "Loading sample at position pos1 for color channel YFP\n",
      "Loading sample at position pos1 for color channel CFP\n",
      "Loading sample at position pos2 for color channel YFP\n",
      "Loading sample at position pos2 for color channel CFP\n",
      "Loading sample at position pos3 for color channel YFP\n",
      "Loading sample at position pos3 for color channel CFP\n",
      "Loading sample at position pos4 for color channel YFP\n",
      "Loading sample at position pos4 for color channel CFP\n",
      "Loading sample at position pos5 for color channel YFP\n",
      "Loading sample at position pos5 for color channel CFP\n",
      "Loading sample at position pos6 for color channel YFP\n",
      "Loading sample at position pos6 for color channel CFP\n",
      "Successfully loaded data with consistent number of frames: 143\n",
      "Filtering out frame with less than 0 occurences\n",
      "Filtering out frame with min value None and max value 20\n",
      "Filtering channel YFP at position pos1:\n",
      "Filtering channel CFP at position pos1:\n",
      "Filtering channel YFP at position pos2:\n",
      "Filtering channel CFP at position pos2:\n",
      "Filtering channel YFP at position pos3:\n",
      "Filtering channel CFP at position pos3:\n",
      "Filtering channel YFP at position pos4:\n",
      "Filtering channel CFP at position pos4:\n",
      "Filtering channel YFP at position pos5:\n",
      "Filtering channel CFP at position pos5:\n",
      "Filtering channel YFP at position pos6:\n",
      "Filtering channel CFP at position pos6:\n",
      "Filtering out trackID with less than 3 occurences\n",
      "Filtering channel YFP at position pos1:\n",
      "Filtering channel CFP at position pos1:\n",
      "Filtering channel YFP at position pos2:\n",
      "Filtering channel CFP at position pos2:\n",
      "Filtering channel YFP at position pos3:\n",
      "Filtering channel CFP at position pos3:\n",
      "Filtering channel YFP at position pos4:\n",
      "Filtering channel CFP at position pos4:\n",
      "Filtering channel YFP at position pos5:\n",
      "Filtering channel CFP at position pos5:\n",
      "Filtering channel YFP at position pos6:\n",
      "Filtering channel CFP at position pos6:\n",
      "Calculate growth rate for trackID measured with major_axis_length_log over an integration window of 3\n",
      "FluidExperiment with name: example_experiment\n",
      "Path: ../../../data/midap-tools_example\n",
      "6 positions: pos1, pos2, pos3, pos4, pos5, pos6\n",
      "2 color channels: YFP, CFP\n",
      "length of experiment is consistent: 20\n",
      "experiment has consistent headers: Unnamed: 0, globalID, frame, labelID, trackID, lineageID, trackID_d1, trackID_d2, split, trackID_mother, first_frame, last_frame, area, edges_min_row, edges_min_col, edges_max_row, edges_max_col, intensity_max, intensity_mean, intensity_min, minor_axis_length, major_axis_length, x, y, major_axis_length_log, growth_rate\n",
      "Experiment has metadata:\n",
      "         position   group          experiment  device_channel\n",
      "position                                                     \n",
      "pos1         pos1  Group1  example_experiment               1\n",
      "pos2         pos2  Group1  example_experiment               2\n",
      "pos3         pos3  Group1  example_experiment               3\n",
      "pos4         pos4  Group2  example_experiment               1\n",
      "pos5         pos5  Group2  example_experiment               2\n",
      "pos6         pos6  Group2  example_experiment               3\n"
     ]
    }
   ],
   "source": [
    "from fluid_experiment.fluid_experiment import FluidExperiment\n",
    "PATH = \"../../../data/midap-tools_example\"\n",
    "experiment = FluidExperiment(PATH,name = \"example_experiment\")\n",
    "experiment.load_metadata_template()\n",
    "experiment.filter_data(\"frame\", max_value = 20) #in this experiment cells were only growing in the first 20 frames\n",
    "experiment.filter_data(\"trackID\", min_occurences = 3)\n",
    "experiment.calculate_transform_data(column = \"major_axis_length\")\n",
    "experiment.calculate_growth_rate(integration_window = 3, id_column= \"trackID\",value_column=\"major_axis_length_log\")\n",
    "print(experiment)\n",
    "\n",
    "#YOUR CODE BELOW"
   ]
  }
 ],
 "metadata": {
  "kernelspec": {
   "display_name": "midap-tools",
   "language": "python",
   "name": "python3"
  },
  "language_info": {
   "codemirror_mode": {
    "name": "ipython",
    "version": 3
   },
   "file_extension": ".py",
   "mimetype": "text/x-python",
   "name": "python",
   "nbconvert_exporter": "python",
   "pygments_lexer": "ipython3",
   "version": "3.10.16"
  }
 },
 "nbformat": 4,
 "nbformat_minor": 2
}
