{
 "cells": [
  {
   "cell_type": "markdown",
   "metadata": {},
   "source": [
    "# Chapter 1: Loading data and metadata\n",
    "\n",
    "In this chapter we learn how to load and save data\n",
    "\n",
    "We start with a quick conceptual overview what midap-tools does. Midap-tools is a framework that enables loading and handling of entire midap experiments.\n",
    "There are two methods how to load an experiment.\n",
    "\n",
    "- directly from a midap output folder\n",
    "- from a .h5 save file. These save files can be created using midap-tools after performing calculations and operations\n",
    "\n",
    "## Loading data\n",
    "\n",
    "### Loading from midap output folder\n",
    "\n",
    "In order to load an experiment from a midap output folder we use the following command\n"
   ]
  },
  {
   "cell_type": "code",
   "execution_count": 15,
   "metadata": {},
   "outputs": [
    {
     "name": "stdout",
     "output_type": "stream",
     "text": [
      "Loading sample at position pos1 for color channel YFP\n",
      "Loading sample at position pos1 for color channel CFP\n",
      "Loading sample at position pos2 for color channel YFP\n",
      "Loading sample at position pos2 for color channel CFP\n",
      "Loading sample at position pos3 for color channel YFP\n",
      "Loading sample at position pos3 for color channel CFP\n",
      "Loading sample at position pos4 for color channel YFP\n",
      "Loading sample at position pos4 for color channel CFP\n",
      "Loading sample at position pos5 for color channel YFP\n",
      "Loading sample at position pos5 for color channel CFP\n",
      "Loading sample at position pos6 for color channel YFP\n",
      "Loading sample at position pos6 for color channel CFP\n",
      "Successfully loaded data with consistent number of frames: 143\n"
     ]
    }
   ],
   "source": [
    "from fluid_experiment.fluid_experiment import FluidExperiment\n",
    "\n",
    "PATH = \"../../data/midap-tools_example\"\n",
    "experiment = FluidExperiment(PATH)"
   ]
  },
  {
   "cell_type": "markdown",
   "metadata": {},
   "source": [
    "***\n",
    "\n",
    "As we can see from the output, the programm has loaded data from 6 positions, each with 2 color channels (YFP and CFP)\n",
    "\n",
    "We also receive a short feedback about the length of the experiment, 143 frames in this case\n",
    "\n",
    "If we want more indepth information, we can use the print command"
   ]
  },
  {
   "cell_type": "code",
   "execution_count": 16,
   "metadata": {},
   "outputs": [
    {
     "name": "stdout",
     "output_type": "stream",
     "text": [
      "FluidExperiment with name: experiment\n",
      "Path: ../../data/midap-tools_example\n",
      "6 positions: pos1, pos2, pos3, pos4, pos5, pos6\n",
      "2 color channels: YFP, CFP\n",
      "length of experiment is consistent: 143\n",
      "experiment has consistent headers: Unnamed: 0, globalID, frame, labelID, trackID, lineageID, trackID_d1, trackID_d2, split, trackID_mother, first_frame, last_frame, area, edges_min_row, edges_min_col, edges_max_row, edges_max_col, intensity_max, intensity_mean, intensity_min, minor_axis_length, major_axis_length, x, y\n",
      "\n"
     ]
    }
   ],
   "source": [
    "print(experiment)"
   ]
  },
  {
   "cell_type": "markdown",
   "metadata": {},
   "source": [
    "***\n",
    "\n",
    "In the addition to the positions and color channels, we get information about the path where the data is saved and the headers\n",
    "\n",
    "The `experiment` object that we created saves the data for each position and color channel independently. from the report we can see what consistent headers we have across all the data\n",
    "\n",
    "This data is saved as a pandas DataFrame, and we can access the data of an individual column using:"
   ]
  },
  {
   "cell_type": "code",
   "execution_count": 17,
   "metadata": {},
   "outputs": [
    {
     "data": {
      "application/vnd.microsoft.datawrangler.viewer.v0+json": {
       "columns": [
        {
         "name": "index",
         "rawType": "int64",
         "type": "integer"
        },
        {
         "name": "Unnamed: 0",
         "rawType": "int64",
         "type": "integer"
        },
        {
         "name": "globalID",
         "rawType": "int64",
         "type": "integer"
        },
        {
         "name": "frame",
         "rawType": "int64",
         "type": "integer"
        },
        {
         "name": "labelID",
         "rawType": "int64",
         "type": "integer"
        },
        {
         "name": "trackID",
         "rawType": "int64",
         "type": "integer"
        },
        {
         "name": "lineageID",
         "rawType": "int64",
         "type": "integer"
        },
        {
         "name": "trackID_d1",
         "rawType": "float64",
         "type": "float"
        },
        {
         "name": "trackID_d2",
         "rawType": "float64",
         "type": "float"
        },
        {
         "name": "split",
         "rawType": "int64",
         "type": "integer"
        },
        {
         "name": "trackID_mother",
         "rawType": "float64",
         "type": "float"
        },
        {
         "name": "first_frame",
         "rawType": "int64",
         "type": "integer"
        },
        {
         "name": "last_frame",
         "rawType": "int64",
         "type": "integer"
        },
        {
         "name": "area",
         "rawType": "float64",
         "type": "float"
        },
        {
         "name": "edges_min_row",
         "rawType": "float64",
         "type": "float"
        },
        {
         "name": "edges_min_col",
         "rawType": "float64",
         "type": "float"
        },
        {
         "name": "edges_max_row",
         "rawType": "float64",
         "type": "float"
        },
        {
         "name": "edges_max_col",
         "rawType": "float64",
         "type": "float"
        },
        {
         "name": "intensity_max",
         "rawType": "float64",
         "type": "float"
        },
        {
         "name": "intensity_mean",
         "rawType": "float64",
         "type": "float"
        },
        {
         "name": "intensity_min",
         "rawType": "float64",
         "type": "float"
        },
        {
         "name": "minor_axis_length",
         "rawType": "float64",
         "type": "float"
        },
        {
         "name": "major_axis_length",
         "rawType": "float64",
         "type": "float"
        },
        {
         "name": "x",
         "rawType": "float64",
         "type": "float"
        },
        {
         "name": "y",
         "rawType": "float64",
         "type": "float"
        }
       ],
       "ref": "28154e30-bcb2-489b-824f-8b7c35659277",
       "rows": [
        [
         "0",
         "0",
         "1",
         "0",
         "1",
         "1",
         "1",
         "2.0",
         "27.0",
         "0",
         null,
         "0",
         "81",
         "409.0",
         "16.0",
         "698.0",
         "60.0",
         "720.0",
         "0.772549033164978",
         "0.6037202477455139",
         "0.2196078449487686",
         "10.58696973396398",
         "50.86302705629461",
         "37.220048899755504",
         "708.1955990220049"
        ],
        [
         "1",
         "1",
         "2",
         "1",
         "6",
         "1",
         "1",
         "2.0",
         "27.0",
         "0",
         null,
         "0",
         "81",
         "397.0",
         "19.0",
         "696.0",
         "59.0",
         "725.0",
         "0.8039215803146362",
         "0.6448855996131897",
         "0.2823529541492462",
         "10.27759723888394",
         "51.16398677728532",
         "37.695214105793454",
         "709.2468513853904"
        ],
        [
         "2",
         "2",
         "3",
         "2",
         "2",
         "1",
         "1",
         "2.0",
         "27.0",
         "0",
         null,
         "0",
         "81",
         "398.0",
         "18.0",
         "694.0",
         "57.0",
         "727.0",
         "0.8117647171020508",
         "0.6582618355751038",
         "0.294117659330368",
         "9.95306347745267",
         "52.665971830266166",
         "36.811557788944725",
         "709.5753768844221"
        ],
        [
         "3",
         "3",
         "4",
         "3",
         "7",
         "1",
         "1",
         "2.0",
         "27.0",
         "0",
         null,
         "0",
         "81",
         "389.0",
         "19.0",
         "695.0",
         "55.0",
         "731.0",
         "0.7882353067398071",
         "0.6500327587127686",
         "0.337254911661148",
         "9.766916218905708",
         "53.22269086402569",
         "36.231362467866326",
         "711.9922879177378"
        ],
        [
         "4",
         "4",
         "5",
         "4",
         "12",
         "1",
         "1",
         "2.0",
         "27.0",
         "0",
         null,
         "0",
         "81",
         "407.0",
         "20.0",
         "695.0",
         "50.0",
         "738.0",
         "0.7803921699523926",
         "0.6303512454032898",
         "0.3058823645114898",
         "9.911307678904626",
         "55.118799169113046",
         "33.60933660933661",
         "715.4201474201474"
        ]
       ],
       "shape": {
        "columns": 24,
        "rows": 5
       }
      },
      "text/html": [
       "<div>\n",
       "<style scoped>\n",
       "    .dataframe tbody tr th:only-of-type {\n",
       "        vertical-align: middle;\n",
       "    }\n",
       "\n",
       "    .dataframe tbody tr th {\n",
       "        vertical-align: top;\n",
       "    }\n",
       "\n",
       "    .dataframe thead th {\n",
       "        text-align: right;\n",
       "    }\n",
       "</style>\n",
       "<table border=\"1\" class=\"dataframe\">\n",
       "  <thead>\n",
       "    <tr style=\"text-align: right;\">\n",
       "      <th></th>\n",
       "      <th>Unnamed: 0</th>\n",
       "      <th>globalID</th>\n",
       "      <th>frame</th>\n",
       "      <th>labelID</th>\n",
       "      <th>trackID</th>\n",
       "      <th>lineageID</th>\n",
       "      <th>trackID_d1</th>\n",
       "      <th>trackID_d2</th>\n",
       "      <th>split</th>\n",
       "      <th>trackID_mother</th>\n",
       "      <th>...</th>\n",
       "      <th>edges_min_col</th>\n",
       "      <th>edges_max_row</th>\n",
       "      <th>edges_max_col</th>\n",
       "      <th>intensity_max</th>\n",
       "      <th>intensity_mean</th>\n",
       "      <th>intensity_min</th>\n",
       "      <th>minor_axis_length</th>\n",
       "      <th>major_axis_length</th>\n",
       "      <th>x</th>\n",
       "      <th>y</th>\n",
       "    </tr>\n",
       "  </thead>\n",
       "  <tbody>\n",
       "    <tr>\n",
       "      <th>0</th>\n",
       "      <td>0</td>\n",
       "      <td>1</td>\n",
       "      <td>0</td>\n",
       "      <td>1</td>\n",
       "      <td>1</td>\n",
       "      <td>1</td>\n",
       "      <td>2.0</td>\n",
       "      <td>27.0</td>\n",
       "      <td>0</td>\n",
       "      <td>NaN</td>\n",
       "      <td>...</td>\n",
       "      <td>698.0</td>\n",
       "      <td>60.0</td>\n",
       "      <td>720.0</td>\n",
       "      <td>0.772549</td>\n",
       "      <td>0.603720</td>\n",
       "      <td>0.219608</td>\n",
       "      <td>10.586970</td>\n",
       "      <td>50.863027</td>\n",
       "      <td>37.220049</td>\n",
       "      <td>708.195599</td>\n",
       "    </tr>\n",
       "    <tr>\n",
       "      <th>1</th>\n",
       "      <td>1</td>\n",
       "      <td>2</td>\n",
       "      <td>1</td>\n",
       "      <td>6</td>\n",
       "      <td>1</td>\n",
       "      <td>1</td>\n",
       "      <td>2.0</td>\n",
       "      <td>27.0</td>\n",
       "      <td>0</td>\n",
       "      <td>NaN</td>\n",
       "      <td>...</td>\n",
       "      <td>696.0</td>\n",
       "      <td>59.0</td>\n",
       "      <td>725.0</td>\n",
       "      <td>0.803922</td>\n",
       "      <td>0.644886</td>\n",
       "      <td>0.282353</td>\n",
       "      <td>10.277597</td>\n",
       "      <td>51.163987</td>\n",
       "      <td>37.695214</td>\n",
       "      <td>709.246851</td>\n",
       "    </tr>\n",
       "    <tr>\n",
       "      <th>2</th>\n",
       "      <td>2</td>\n",
       "      <td>3</td>\n",
       "      <td>2</td>\n",
       "      <td>2</td>\n",
       "      <td>1</td>\n",
       "      <td>1</td>\n",
       "      <td>2.0</td>\n",
       "      <td>27.0</td>\n",
       "      <td>0</td>\n",
       "      <td>NaN</td>\n",
       "      <td>...</td>\n",
       "      <td>694.0</td>\n",
       "      <td>57.0</td>\n",
       "      <td>727.0</td>\n",
       "      <td>0.811765</td>\n",
       "      <td>0.658262</td>\n",
       "      <td>0.294118</td>\n",
       "      <td>9.953063</td>\n",
       "      <td>52.665972</td>\n",
       "      <td>36.811558</td>\n",
       "      <td>709.575377</td>\n",
       "    </tr>\n",
       "    <tr>\n",
       "      <th>3</th>\n",
       "      <td>3</td>\n",
       "      <td>4</td>\n",
       "      <td>3</td>\n",
       "      <td>7</td>\n",
       "      <td>1</td>\n",
       "      <td>1</td>\n",
       "      <td>2.0</td>\n",
       "      <td>27.0</td>\n",
       "      <td>0</td>\n",
       "      <td>NaN</td>\n",
       "      <td>...</td>\n",
       "      <td>695.0</td>\n",
       "      <td>55.0</td>\n",
       "      <td>731.0</td>\n",
       "      <td>0.788235</td>\n",
       "      <td>0.650033</td>\n",
       "      <td>0.337255</td>\n",
       "      <td>9.766916</td>\n",
       "      <td>53.222691</td>\n",
       "      <td>36.231362</td>\n",
       "      <td>711.992288</td>\n",
       "    </tr>\n",
       "    <tr>\n",
       "      <th>4</th>\n",
       "      <td>4</td>\n",
       "      <td>5</td>\n",
       "      <td>4</td>\n",
       "      <td>12</td>\n",
       "      <td>1</td>\n",
       "      <td>1</td>\n",
       "      <td>2.0</td>\n",
       "      <td>27.0</td>\n",
       "      <td>0</td>\n",
       "      <td>NaN</td>\n",
       "      <td>...</td>\n",
       "      <td>695.0</td>\n",
       "      <td>50.0</td>\n",
       "      <td>738.0</td>\n",
       "      <td>0.780392</td>\n",
       "      <td>0.630351</td>\n",
       "      <td>0.305882</td>\n",
       "      <td>9.911308</td>\n",
       "      <td>55.118799</td>\n",
       "      <td>33.609337</td>\n",
       "      <td>715.420147</td>\n",
       "    </tr>\n",
       "  </tbody>\n",
       "</table>\n",
       "<p>5 rows × 24 columns</p>\n",
       "</div>"
      ],
      "text/plain": [
       "   Unnamed: 0  globalID  frame  labelID  trackID  lineageID  trackID_d1  \\\n",
       "0           0         1      0        1        1          1         2.0   \n",
       "1           1         2      1        6        1          1         2.0   \n",
       "2           2         3      2        2        1          1         2.0   \n",
       "3           3         4      3        7        1          1         2.0   \n",
       "4           4         5      4       12        1          1         2.0   \n",
       "\n",
       "   trackID_d2  split  trackID_mother  ...  edges_min_col  edges_max_row  \\\n",
       "0        27.0      0             NaN  ...          698.0           60.0   \n",
       "1        27.0      0             NaN  ...          696.0           59.0   \n",
       "2        27.0      0             NaN  ...          694.0           57.0   \n",
       "3        27.0      0             NaN  ...          695.0           55.0   \n",
       "4        27.0      0             NaN  ...          695.0           50.0   \n",
       "\n",
       "   edges_max_col  intensity_max  intensity_mean  intensity_min  \\\n",
       "0          720.0       0.772549        0.603720       0.219608   \n",
       "1          725.0       0.803922        0.644886       0.282353   \n",
       "2          727.0       0.811765        0.658262       0.294118   \n",
       "3          731.0       0.788235        0.650033       0.337255   \n",
       "4          738.0       0.780392        0.630351       0.305882   \n",
       "\n",
       "   minor_axis_length  major_axis_length          x           y  \n",
       "0          10.586970          50.863027  37.220049  708.195599  \n",
       "1          10.277597          51.163987  37.695214  709.246851  \n",
       "2           9.953063          52.665972  36.811558  709.575377  \n",
       "3           9.766916          53.222691  36.231362  711.992288  \n",
       "4           9.911308          55.118799  33.609337  715.420147  \n",
       "\n",
       "[5 rows x 24 columns]"
      ]
     },
     "execution_count": 17,
     "metadata": {},
     "output_type": "execute_result"
    }
   ],
   "source": [
    "df = experiment[\"pos1\"][\"YFP\"]\n",
    "df.head(5)"
   ]
  },
  {
   "cell_type": "markdown",
   "metadata": {},
   "source": [
    "***\n",
    "\n",
    "As we note, this DataFrame contains all the data saved in the `track_output.csv` file that midap creates for the lineages\n",
    "\n",
    "\n",
    "The data loader by default loads all the data in the parten directory. we may wish to only load selected positions. this can be achieved by using:"
   ]
  },
  {
   "cell_type": "code",
   "execution_count": 18,
   "metadata": {},
   "outputs": [
    {
     "name": "stdout",
     "output_type": "stream",
     "text": [
      "Loading sample at position pos1 for color channel YFP\n",
      "Loading sample at position pos1 for color channel CFP\n",
      "Loading sample at position pos2 for color channel YFP\n",
      "Loading sample at position pos2 for color channel CFP\n",
      "Loading sample at position pos3 for color channel YFP\n",
      "Loading sample at position pos3 for color channel CFP\n",
      "Successfully loaded data with consistent number of frames: 143\n",
      "FluidExperiment with name: experiment\n",
      "Path: ../../data/midap-tools_example\n",
      "3 positions: pos1, pos2, pos3\n",
      "2 color channels: YFP, CFP\n",
      "length of experiment is consistent: 143\n",
      "experiment has consistent headers: Unnamed: 0, globalID, frame, labelID, trackID, lineageID, trackID_d1, trackID_d2, split, trackID_mother, first_frame, last_frame, area, edges_min_row, edges_min_col, edges_max_row, edges_max_col, intensity_max, intensity_mean, intensity_min, minor_axis_length, major_axis_length, x, y\n",
      "\n"
     ]
    }
   ],
   "source": [
    "experiment = FluidExperiment(PATH,positions=[\"pos1\",\"pos2\",\"pos3\"])\n",
    "print(experiment)"
   ]
  },
  {
   "cell_type": "markdown",
   "metadata": {},
   "source": [
    "***\n",
    "\n",
    "Similarly we can load only a subset of all color channels using:"
   ]
  },
  {
   "cell_type": "code",
   "execution_count": 19,
   "metadata": {},
   "outputs": [
    {
     "name": "stdout",
     "output_type": "stream",
     "text": [
      "Loading sample at position pos1 for color channel YFP\n",
      "Loading sample at position pos2 for color channel YFP\n",
      "Loading sample at position pos3 for color channel YFP\n",
      "Loading sample at position pos4 for color channel YFP\n",
      "Loading sample at position pos5 for color channel YFP\n",
      "Loading sample at position pos6 for color channel YFP\n",
      "Successfully loaded data with consistent number of frames: 143\n",
      "FluidExperiment with name: experiment\n",
      "Path: ../../data/midap-tools_example\n",
      "6 positions: pos1, pos2, pos3, pos4, pos5, pos6\n",
      "1 color channels: YFP\n",
      "length of experiment is consistent: 143\n",
      "experiment has consistent headers: Unnamed: 0, globalID, frame, labelID, trackID, lineageID, trackID_d1, trackID_d2, split, trackID_mother, first_frame, last_frame, area, edges_min_row, edges_min_col, edges_max_row, edges_max_col, intensity_max, intensity_mean, intensity_min, minor_axis_length, major_axis_length, x, y\n",
      "\n"
     ]
    }
   ],
   "source": [
    "experiment = FluidExperiment(PATH,color_channels=[\"YFP\"])\n",
    "print(experiment)"
   ]
  },
  {
   "cell_type": "markdown",
   "metadata": {},
   "source": [
    "***\n",
    "\n",
    "Or combinations of both position and color channels"
   ]
  },
  {
   "cell_type": "code",
   "execution_count": 20,
   "metadata": {},
   "outputs": [
    {
     "name": "stdout",
     "output_type": "stream",
     "text": [
      "Loading sample at position pos1 for color channel YFP\n",
      "Loading sample at position pos2 for color channel YFP\n",
      "Loading sample at position pos3 for color channel YFP\n",
      "Successfully loaded data with consistent number of frames: 143\n",
      "FluidExperiment with name: experiment\n",
      "Path: ../../data/midap-tools_example\n",
      "3 positions: pos1, pos2, pos3\n",
      "1 color channels: YFP\n",
      "length of experiment is consistent: 143\n",
      "experiment has consistent headers: Unnamed: 0, globalID, frame, labelID, trackID, lineageID, trackID_d1, trackID_d2, split, trackID_mother, first_frame, last_frame, area, edges_min_row, edges_min_col, edges_max_row, edges_max_col, intensity_max, intensity_mean, intensity_min, minor_axis_length, major_axis_length, x, y\n",
      "\n"
     ]
    }
   ],
   "source": [
    "experiment = FluidExperiment(PATH,color_channels=[\"YFP\"],positions=[\"pos1\",\"pos2\",\"pos3\"])\n",
    "print(experiment)"
   ]
  },
  {
   "cell_type": "markdown",
   "metadata": {},
   "source": [
    "***\n",
    "\n",
    "We can also set the experiments name. this will be the default name used when saving the experiment. It makes sense to set this to something recognizable"
   ]
  },
  {
   "cell_type": "code",
   "execution_count": 21,
   "metadata": {},
   "outputs": [
    {
     "name": "stdout",
     "output_type": "stream",
     "text": [
      "Loading sample at position pos1 for color channel YFP\n",
      "Loading sample at position pos1 for color channel CFP\n",
      "Loading sample at position pos2 for color channel YFP\n",
      "Loading sample at position pos2 for color channel CFP\n",
      "Loading sample at position pos3 for color channel YFP\n",
      "Loading sample at position pos3 for color channel CFP\n",
      "Loading sample at position pos4 for color channel YFP\n",
      "Loading sample at position pos4 for color channel CFP\n",
      "Loading sample at position pos5 for color channel YFP\n",
      "Loading sample at position pos5 for color channel CFP\n",
      "Loading sample at position pos6 for color channel YFP\n",
      "Loading sample at position pos6 for color channel CFP\n",
      "Successfully loaded data with consistent number of frames: 143\n",
      "FluidExperiment with name: midap_setup_test\n",
      "Path: ../../data/midap-tools_example\n",
      "6 positions: pos1, pos2, pos3, pos4, pos5, pos6\n",
      "2 color channels: YFP, CFP\n",
      "length of experiment is consistent: 143\n",
      "experiment has consistent headers: Unnamed: 0, globalID, frame, labelID, trackID, lineageID, trackID_d1, trackID_d2, split, trackID_mother, first_frame, last_frame, area, edges_min_row, edges_min_col, edges_max_row, edges_max_col, intensity_max, intensity_mean, intensity_min, minor_axis_length, major_axis_length, x, y\n",
      "\n"
     ]
    }
   ],
   "source": [
    "experiment = FluidExperiment(PATH,name = \"midap_setup_test\")\n",
    "print(experiment)"
   ]
  },
  {
   "cell_type": "markdown",
   "metadata": {},
   "source": [
    "### Loading from save file\n",
    "\n",
    "if we midap-tools to work with data from an experiment, there is the option to export all our analysis results as a single .h5 file.\n",
    "our example data comes with a prepared save file. we can load this by using:"
   ]
  },
  {
   "cell_type": "code",
   "execution_count": 22,
   "metadata": {},
   "outputs": [
    {
     "name": "stdout",
     "output_type": "stream",
     "text": [
      "Successfully loaded experiment with data from 6 positions and 2 color channels\n",
      "FluidExperiment with name: example_experiment\n",
      "Path: ../../data/midap-tools_example\n",
      "6 positions: pos1, pos2, pos3, pos4, pos5, pos6\n",
      "2 color channels: CFP, YFP\n",
      "length of experiment is consistent: 143\n",
      "experiment has consistent headers: Unnamed: 0, globalID, frame, labelID, trackID, lineageID, trackID_d1, trackID_d2, split, trackID_mother, first_frame, last_frame, area, edges_min_row, edges_min_col, edges_max_row, edges_max_col, intensity_max, intensity_mean, intensity_min, minor_axis_length, major_axis_length, x, y, density_CFP, density_YFP, major_axis_length_log, area_log\n",
      "Experiment has metadata:\n",
      "          device_channel          experiment   group position\n",
      "position                                                     \n",
      "pos1                   1  example_experiment  Group1     pos1\n",
      "pos2                   2  example_experiment  Group1     pos2\n",
      "pos3                   3  example_experiment  Group1     pos3\n",
      "pos4                   1  example_experiment  Group2     pos4\n",
      "pos5                   2  example_experiment  Group2     pos5\n",
      "pos6                   3  example_experiment  Group2     pos6\n"
     ]
    }
   ],
   "source": [
    "SAVEFILE_PATH = \"../../data/midap-tools_example/example_experiment.h5\"\n",
    "\n",
    "experiment_loaded = FluidExperiment.load(SAVEFILE_PATH)\n",
    "print(experiment_loaded)"
   ]
  },
  {
   "cell_type": "markdown",
   "metadata": {},
   "source": [
    "## Create metadata\n",
    "\n",
    "As we note, the previously loaded data came with already annotated metadata. The first time we create a new experiment, we should always create a metadata template and fill in our grouping variables.\n",
    "This template can then be loaded and the FluidExperiment now has access to information about experimental design\n",
    "\n",
    "This is a 3 step process:\n",
    "\n",
    "1.  export a metadata template\n",
    "2.  fill in metadata (can be done with excel)\n",
    "3.  load metadata template\n",
    "\n",
    "We start by exporting the template"
   ]
  },
  {
   "cell_type": "code",
   "execution_count": 23,
   "metadata": {},
   "outputs": [
    {
     "name": "stdout",
     "output_type": "stream",
     "text": [
      "Skipped: metadata file already exists at ../../data/midap-tools_example/midap_setup_test_metadata.csv\n"
     ]
    }
   ],
   "source": [
    "experiment.create_metadata_template()"
   ]
  },
  {
   "cell_type": "markdown",
   "metadata": {},
   "source": [
    "***\n",
    "\n",
    "As we can see, an empty metadata file was created. We can now open this metadata file for example with excel (or any other program that can modify .csv files) and fill in our groups.\n",
    "In this process, as many new colums as required can be added to the metadata\n",
    "\n",
    "**Tip:** by default midap-tools will not overwrite existing templates (to prevent accidents). If you want to force it to create a new template in such cases you can use `experiment.create_metadata_template(overwrite = True)`\n",
    "\n",
    "we can then load this file again using:"
   ]
  },
  {
   "cell_type": "code",
   "execution_count": 24,
   "metadata": {},
   "outputs": [
    {
     "name": "stdout",
     "output_type": "stream",
     "text": [
      "FluidExperiment with name: midap_setup_test\n",
      "Path: ../../data/midap-tools_example\n",
      "6 positions: pos1, pos2, pos3, pos4, pos5, pos6\n",
      "2 color channels: YFP, CFP\n",
      "length of experiment is consistent: 143\n",
      "experiment has consistent headers: Unnamed: 0, globalID, frame, labelID, trackID, lineageID, trackID_d1, trackID_d2, split, trackID_mother, first_frame, last_frame, area, edges_min_row, edges_min_col, edges_max_row, edges_max_col, intensity_max, intensity_mean, intensity_min, minor_axis_length, major_axis_length, x, y\n",
      "Experiment has metadata:\n",
      "         position    group        experiment  device_channel\n",
      "position                                                    \n",
      "pos1         pos1  default  midap_setup_test             NaN\n",
      "pos2         pos2  default  midap_setup_test             NaN\n",
      "pos3         pos3  default  midap_setup_test             NaN\n",
      "pos4         pos4  default  midap_setup_test             NaN\n",
      "pos5         pos5  default  midap_setup_test             NaN\n",
      "pos6         pos6  default  midap_setup_test             NaN\n"
     ]
    }
   ],
   "source": [
    "experiment.load_metadata_template()\n",
    "print(experiment)"
   ]
  },
  {
   "cell_type": "markdown",
   "metadata": {},
   "source": [
    "As we can see, now the experiment has metadata associated with it.\n",
    "\n",
    "**Tip:** by default, midap-tools will save and load the template in the midap output folder usinge the experiment name as filename (where the experiment data is located). If you want to save and load from a different location, both functions have the option to set the path `experiment.create_metadata_template(path = \"/PATH/FILE.csv\")` and `experiment.load_metadata_template(path = \"/PATH/FILE.csv\")`\n",
    "\n",
    "## Saving data\n",
    "\n",
    "Finally, midap-tools also alows you to save an experiment. This will include the filtered / processed data and also any metadata and other associated data such as filtering history\n",
    "To save the entire experiment you can use:"
   ]
  },
  {
   "cell_type": "code",
   "execution_count": 25,
   "metadata": {},
   "outputs": [
    {
     "name": "stdout",
     "output_type": "stream",
     "text": [
      "Saved experiment at ../../data/midap-tools_example/midap_setup_test.h5\n"
     ]
    }
   ],
   "source": [
    "experiment.save()"
   ]
  },
  {
   "cell_type": "markdown",
   "metadata": {},
   "source": [
    "This now created a `midap_setup_test.h5` save file in the midap output folder.\n",
    "\n",
    "**Tip:** by default midap-tools will save the output file in the experiment folder with the experiments name. You can force saveing to a different location by using `experiment.save(file_path=\"/PATH/FILE.h5\")`\n",
    "\n",
    "\n",
    "Now that you have learned how to load data, add metadata and save entire experiment, we can move on to the next Chapter where we will learn how to do easy QC operations on experiments"
   ]
  }
 ],
 "metadata": {
  "kernelspec": {
   "display_name": "midap-tools",
   "language": "python",
   "name": "python3"
  },
  "language_info": {
   "codemirror_mode": {
    "name": "ipython",
    "version": 3
   },
   "file_extension": ".py",
   "mimetype": "text/x-python",
   "name": "python",
   "nbconvert_exporter": "python",
   "pygments_lexer": "ipython3",
   "version": "3.10.16"
  }
 },
 "nbformat": 4,
 "nbformat_minor": 2
}
