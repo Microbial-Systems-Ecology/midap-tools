{
 "cells": [
  {
   "cell_type": "code",
   "execution_count": null,
   "metadata": {},
   "outputs": [],
   "source": [
    "from fluid_experiment.fluid_experiment import FluidExperiment\n",
    "\n",
    "path_experiment = \"/Users/lukasv/DATA/midap/FluidPhage_REP1_results\"\n",
    "color_channels = [\"CFP\",\"YFP\"]"
   ]
  }
 ],
 "metadata": {
  "kernelspec": {
   "display_name": "midap-tools",
   "language": "python",
   "name": "python3"
  },
  "language_info": {
   "name": "python",
   "version": "3.10.16"
  }
 },
 "nbformat": 4,
 "nbformat_minor": 2
}
